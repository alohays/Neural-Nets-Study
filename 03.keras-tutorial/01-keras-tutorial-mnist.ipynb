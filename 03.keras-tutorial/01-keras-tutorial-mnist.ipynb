{
 "cells": [
  {
   "cell_type": "markdown",
   "metadata": {},
   "source": [
    "## Prerequisites"
   ]
  },
  {
   "cell_type": "code",
   "execution_count": 2,
   "metadata": {},
   "outputs": [
    {
     "name": "stderr",
     "output_type": "stream",
     "text": [
      "Using TensorFlow backend.\n",
      "/usr/local/var/pyenv/versions/anaconda3-4.4.0/lib/python3.6/importlib/_bootstrap.py:205: RuntimeWarning: compiletime version 3.5 of module 'tensorflow.python.framework.fast_tensor_util' does not match runtime version 3.6\n",
      "  return f(*args, **kwds)\n"
     ]
    }
   ],
   "source": [
    "import numpy as np\n",
    "import keras"
   ]
  },
  {
   "cell_type": "markdown",
   "metadata": {},
   "source": [
    "## Load Dataset"
   ]
  },
  {
   "cell_type": "code",
   "execution_count": 3,
   "metadata": {},
   "outputs": [
    {
     "name": "stdout",
     "output_type": "stream",
     "text": [
      "(60000, 28, 28) (60000,)\n",
      "(10000, 28, 28) (10000,)\n"
     ]
    }
   ],
   "source": [
    "from keras.datasets import mnist\n",
    "\n",
    "((X_train, y_train), (X_test, y_test)) = mnist.load_data()\n",
    " \n",
    "print(X_train.shape, y_train.shape)\n",
    "print(X_test.shape, y_test.shape)"
   ]
  },
  {
   "cell_type": "markdown",
   "metadata": {},
   "source": [
    "### Visualize"
   ]
  },
  {
   "cell_type": "code",
   "execution_count": 4,
   "metadata": {},
   "outputs": [
    {
     "name": "stdout",
     "output_type": "stream",
     "text": [
      "[5 0 4 1 9 2 1 3 1 4]\n"
     ]
    },
    {
     "data": {
      "text/plain": [
       "<matplotlib.image.AxesImage at 0x12acf2080>"
      ]
     },
     "execution_count": 4,
     "metadata": {},
     "output_type": "execute_result"
    },
    {
     "data": {
      "text/plain": [
       "<matplotlib.figure.Figure at 0x127636748>"
      ]
     },
     "metadata": {},
     "output_type": "display_data"
    },
    {
     "data": {
      "image/png": "[encoded data removed]",
      "text/plain": [
       "<matplotlib.figure.Figure at 0x1276e5d30>"
      ]
     },
     "metadata": {},
     "output_type": "display_data"
    }
   ],
   "source": [
    "%matplotlib inline\n",
    "import matplotlib.pyplot as plt\n",
    "\n",
    "plt.gray()\n",
    "\n",
    "print(y_train[0:10])\n",
    "\n",
    "figures, axes = plt.subplots(nrows=2, ncols=5)\n",
    "figures.set_size_inches(18, 8)\n",
    "\n",
    "axes[0][0].matshow(X_train[0])\n",
    "axes[0][1].matshow(X_train[1])\n",
    "axes[0][2].matshow(X_train[2])\n",
    "axes[0][3].matshow(X_train[3])\n",
    "axes[0][4].matshow(X_train[4])\n",
    "axes[1][0].matshow(X_train[5])\n",
    "axes[1][1].matshow(X_train[6])\n",
    "axes[1][2].matshow(X_train[7])\n",
    "axes[1][3].matshow(X_train[8])\n",
    "axes[1][4].matshow(X_train[9])"
   ]
  },
  {
   "cell_type": "markdown",
   "metadata": {},
   "source": [
    "## Preprocessing"
   ]
  },
  {
   "cell_type": "code",
   "execution_count": 5,
   "metadata": {},
   "outputs": [
    {
     "name": "stdout",
     "output_type": "stream",
     "text": [
      "(60000, 28, 28, 1) (10000, 28, 28, 1)\n"
     ]
    }
   ],
   "source": [
    "# Dimension 기준\n",
    "# X = number of data / input height / input width / input channel\n",
    "# W = ouput channel/ input channel / weight height / weight width\n",
    "# Y = number of data / output height / output width / output channel\n",
    "\n",
    "X_train = X_train.reshape(60000, 28, 28, 1) \n",
    "X_test = X_test.reshape(10000, 28, 28, 1)\n",
    "\n",
    "print(X_train.shape, X_test.shape)"
   ]
  },
  {
   "cell_type": "code",
   "execution_count": 6,
   "metadata": {},
   "outputs": [
    {
     "name": "stdout",
     "output_type": "stream",
     "text": [
      "(60000, 10) (10000, 10)\n"
     ]
    }
   ],
   "source": [
    "from keras.utils import to_categorical\n",
    "\n",
    "# One hot encoding을 합니다.\n",
    "# np.eye(10)[y_train]과 동일합니다.\n",
    "y_train_hot = to_categorical(y_train)\n",
    "\n",
    "# np.eye(10)[y_test]와 동일합니다.\n",
    "y_test_hot = to_categorical(y_test)\n",
    "\n",
    "print(y_train_hot.shape, y_test_hot.shape)"
   ]
  },
  {
   "cell_type": "markdown",
   "metadata": {},
   "source": [
    "## Build a Model"
   ]
  },
  {
   "cell_type": "markdown",
   "metadata": {},
   "source": [
    "### Convolutional Neural Network"
   ]
  },
  {
   "cell_type": "code",
   "execution_count": 11,
   "metadata": {
    "collapsed": true
   },
   "outputs": [],
   "source": [
    "# Write your code here!\n",
    "from keras.models import Sequential\n",
    "from keras.layers import Conv2D, MaxPooling2D, Flatten, Dense\n",
    "\n",
    "model = Sequential()\n",
    "model.add(Conv2D(filters = 6, \n",
    "                 kernel_initializer = 'random_uniform',\n",
    "                 activation = 'sigmoid',\n",
    "                 kernel_size = (5, 5),\n",
    "                 input_shape = (28,28,1)))\n",
    "model.add(MaxPooling2D(pool_size = (2,2),\n",
    "                      strides = (2,2)))\n",
    "\n",
    "model.add(Conv2D(filters = 12, \n",
    "                 kernel_initializer = 'random_uniform',\n",
    "                 activation = 'sigmoid',\n",
    "                 kernel_size = (5, 5)))\n",
    "model.add(MaxPooling2D(pool_size = (2,2),\n",
    "                      strides = (2,2))) # strides : 한칸씩 가는 스텝\n",
    "\n",
    "model.add(Flatten())\n",
    "\n",
    "model.add(Dense(units=128,\n",
    "               kernel_initializer = 'random_uniform',\n",
    "               activation='sigmoid'))\n",
    "\n",
    "model.add(Dense(units=10,\n",
    "               kernel_initializer = 'random_uniform',\n",
    "               activation='sigmoid'))\n",
    "\n",
    "from keras.optimizers import SGD\n",
    "\n",
    "optimizer = SGD(lr=0.1)\n",
    "\n",
    "model.compile(optimizer = 'sgd',\n",
    "             loss='categorical_crossentropy',\n",
    "             metrics=['accuracy'])"
   ]
  },
  {
   "cell_type": "code",
   "execution_count": 12,
   "metadata": {},
   "outputs": [
    {
     "name": "stdout",
     "output_type": "stream",
     "text": [
      "Train on 60000 samples, validate on 10000 samples\n",
      "Epoch 1/30\n",
      "60000/60000 [==============================] - 18s 303us/step - loss: 2.3017 - acc: 0.1112 - val_loss: 2.3012 - val_acc: 0.1135\n",
      "Epoch 2/30\n",
      "60000/60000 [==============================] - 18s 298us/step - loss: 2.3014 - acc: 0.1122 - val_loss: 2.3006 - val_acc: 0.1135\n",
      "Epoch 3/30\n",
      "60000/60000 [==============================] - 18s 298us/step - loss: 2.3012 - acc: 0.1122 - val_loss: 2.3006 - val_acc: 0.1135\n",
      "Epoch 4/30\n",
      "60000/60000 [==============================] - 18s 292us/step - loss: 2.3009 - acc: 0.1125 - val_loss: 2.3004 - val_acc: 0.1135\n",
      "Epoch 5/30\n",
      "60000/60000 [==============================] - 17s 275us/step - loss: 2.3006 - acc: 0.1124 - val_loss: 2.3004 - val_acc: 0.1135\n",
      "Epoch 6/30\n",
      "60000/60000 [==============================] - 17s 275us/step - loss: 2.2999 - acc: 0.1130 - val_loss: 2.3003 - val_acc: 0.1135\n",
      "Epoch 7/30\n",
      "60000/60000 [==============================] - 17s 275us/step - loss: 2.2991 - acc: 0.1144 - val_loss: 2.2985 - val_acc: 0.1135\n",
      "Epoch 8/30\n",
      "60000/60000 [==============================] - 18s 294us/step - loss: 2.2975 - acc: 0.1137 - val_loss: 2.2960 - val_acc: 0.1135\n",
      "Epoch 9/30\n",
      "60000/60000 [==============================] - 17s 284us/step - loss: 2.2936 - acc: 0.1199 - val_loss: 2.2895 - val_acc: 0.1135\n",
      "Epoch 10/30\n",
      "60000/60000 [==============================] - 16s 275us/step - loss: 2.2803 - acc: 0.1651 - val_loss: 2.2624 - val_acc: 0.1876\n",
      "Epoch 11/30\n",
      "60000/60000 [==============================] - 17s 290us/step - loss: 2.1949 - acc: 0.3539 - val_loss: 2.0458 - val_acc: 0.4904\n",
      "Epoch 12/30\n",
      "60000/60000 [==============================] - 17s 284us/step - loss: 1.7018 - acc: 0.5643 - val_loss: 1.3023 - val_acc: 0.7090\n",
      "Epoch 13/30\n",
      "60000/60000 [==============================] - 17s 287us/step - loss: 1.0227 - acc: 0.7537 - val_loss: 0.7785 - val_acc: 0.8085\n",
      "Epoch 14/30\n",
      "60000/60000 [==============================] - 19s 310us/step - loss: 0.6680 - acc: 0.8313 - val_loss: 0.5501 - val_acc: 0.8611\n",
      "Epoch 15/30\n",
      "60000/60000 [==============================] - 18s 305us/step - loss: 0.5019 - acc: 0.8704 - val_loss: 0.4320 - val_acc: 0.8915\n",
      "Epoch 16/30\n",
      "60000/60000 [==============================] - 18s 307us/step - loss: 0.4118 - acc: 0.8919 - val_loss: 0.3636 - val_acc: 0.9022\n",
      "Epoch 17/30\n",
      "60000/60000 [==============================] - 18s 308us/step - loss: 0.3549 - acc: 0.9055 - val_loss: 0.3175 - val_acc: 0.9171\n",
      "Epoch 18/30\n",
      "60000/60000 [==============================] - 19s 309us/step - loss: 0.3154 - acc: 0.9147 - val_loss: 0.2843 - val_acc: 0.9198\n",
      "Epoch 19/30\n",
      "60000/60000 [==============================] - 19s 309us/step - loss: 0.2852 - acc: 0.9216 - val_loss: 0.2569 - val_acc: 0.9291\n",
      "Epoch 20/30\n",
      "60000/60000 [==============================] - 19s 309us/step - loss: 0.2623 - acc: 0.9275 - val_loss: 0.2407 - val_acc: 0.9319\n",
      "Epoch 21/30\n",
      "60000/60000 [==============================] - 19s 309us/step - loss: 0.2432 - acc: 0.9325 - val_loss: 0.2219 - val_acc: 0.9363\n",
      "Epoch 22/30\n",
      "60000/60000 [==============================] - 19s 309us/step - loss: 0.2277 - acc: 0.9359 - val_loss: 0.2047 - val_acc: 0.9412\n",
      "Epoch 23/30\n",
      "60000/60000 [==============================] - 19s 309us/step - loss: 0.2155 - acc: 0.9385 - val_loss: 0.1986 - val_acc: 0.9421\n",
      "Epoch 24/30\n",
      "60000/60000 [==============================] - 19s 309us/step - loss: 0.2043 - acc: 0.9415 - val_loss: 0.1853 - val_acc: 0.9439\n",
      "Epoch 25/30\n",
      "60000/60000 [==============================] - 19s 310us/step - loss: 0.1947 - acc: 0.9440 - val_loss: 0.1837 - val_acc: 0.9449\n",
      "Epoch 26/30\n",
      "60000/60000 [==============================] - 19s 312us/step - loss: 0.1871 - acc: 0.9459 - val_loss: 0.1728 - val_acc: 0.9475\n",
      "Epoch 27/30\n",
      "60000/60000 [==============================] - 19s 317us/step - loss: 0.1796 - acc: 0.9481 - val_loss: 0.1648 - val_acc: 0.9509\n",
      "Epoch 28/30\n",
      "60000/60000 [==============================] - 19s 314us/step - loss: 0.1730 - acc: 0.9494 - val_loss: 0.1578 - val_acc: 0.9521\n",
      "Epoch 29/30\n",
      "60000/60000 [==============================] - 19s 315us/step - loss: 0.1664 - acc: 0.9513 - val_loss: 0.1542 - val_acc: 0.9531\n",
      "Epoch 30/30\n",
      "60000/60000 [==============================] - 19s 313us/step - loss: 0.1608 - acc: 0.9527 - val_loss: 0.1505 - val_acc: 0.9529\n"
     ]
    },
    {
     "data": {
      "text/plain": [
       "<keras.callbacks.History at 0x12b5bacc0>"
      ]
     },
     "execution_count": 12,
     "metadata": {},
     "output_type": "execute_result"
    }
   ],
   "source": [
    "model.fit(X_train,\n",
    "         y_train_hot,\n",
    "         epochs=30,\n",
    "         validation_data=(X_test, y_test_hot))"
   ]
  },
  {
   "cell_type": "code",
   "execution_count": null,
   "metadata": {
    "collapsed": true
   },
   "outputs": [],
   "source": []
  }
 ],
 "metadata": {
  "kernelspec": {
   "display_name": "Python 3",
   "language": "python",
   "name": "python3"
  },
  "language_info": {
   "codemirror_mode": {
    "name": "ipython",
    "version": 3
   },
   "file_extension": ".py",
   "mimetype": "text/x-python",
   "name": "python",
   "nbconvert_exporter": "python",
   "pygments_lexer": "ipython3",
   "version": "3.6.1"
  }
 },
 "nbformat": 4,
 "nbformat_minor": 2
}
