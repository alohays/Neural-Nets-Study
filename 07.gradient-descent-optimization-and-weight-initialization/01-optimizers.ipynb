{
 "cells": [
  {
   "cell_type": "code",
   "execution_count": 1,
   "metadata": {
    "collapsed": true
   },
   "outputs": [],
   "source": [
    "%matplotlib inline\n",
    "import numpy as np\n",
    "import pandas as pd\n",
    "import matplotlib.pyplot as plt"
   ]
  },
  {
   "cell_type": "markdown",
   "metadata": {},
   "source": [
    "## Load Dataset"
   ]
  },
  {
   "cell_type": "code",
   "execution_count": 2,
   "metadata": {
    "collapsed": true
   },
   "outputs": [],
   "source": [
    "from sklearn.datasets import load_digits\n",
    "\n",
    "digits = load_digits()"
   ]
  },
  {
   "cell_type": "code",
   "execution_count": 3,
   "metadata": {},
   "outputs": [
    {
     "name": "stdout",
     "output_type": "stream",
     "text": [
      "(1797, 64)\n"
     ]
    },
    {
     "data": {
      "text/plain": [
       "array([[  0.,   0.,   5., ...,   0.,   0.,   0.],\n",
       "       [  0.,   0.,   0., ...,  10.,   0.,   0.],\n",
       "       [  0.,   0.,   0., ...,  16.,   9.,   0.],\n",
       "       ..., \n",
       "       [  0.,   0.,   1., ...,   6.,   0.,   0.],\n",
       "       [  0.,   0.,   2., ...,  12.,   0.,   0.],\n",
       "       [  0.,   0.,  10., ...,  12.,   1.,   0.]])"
      ]
     },
     "execution_count": 3,
     "metadata": {},
     "output_type": "execute_result"
    }
   ],
   "source": [
    "X = digits[\"data\"]\n",
    "\n",
    "print(X.shape)\n",
    "X"
   ]
  },
  {
   "cell_type": "markdown",
   "metadata": {},
   "source": [
    "### Visualize"
   ]
  },
  {
   "cell_type": "code",
   "execution_count": 4,
   "metadata": {},
   "outputs": [
    {
     "data": {
      "text/plain": [
       "<matplotlib.image.AxesImage at 0x10d452d68>"
      ]
     },
     "execution_count": 4,
     "metadata": {},
     "output_type": "execute_result"
    },
    {
     "data": {
      "text/plain": [
       "<matplotlib.figure.Figure at 0x10d47ff60>"
      ]
     },
     "metadata": {},
     "output_type": "display_data"
    },
    {
     "data": {
      "image/png": "[encoded data removed]",
      "text/plain": [
       "<matplotlib.figure.Figure at 0x10d47ff98>"
      ]
     },
     "metadata": {},
     "output_type": "display_data"
    }
   ],
   "source": [
    "%matplotlib inline\n",
    "import matplotlib.pyplot as plt\n",
    "\n",
    "plt.gray()\n",
    "\n",
    "figure, axes = plt.subplots(nrows=2, ncols=5)\n",
    "figure.set_size_inches(18, 8)\n",
    "\n",
    "axes[0][0].matshow(X[0].reshape(8, 8))\n",
    "axes[0][1].matshow(X[1].reshape(8, 8))\n",
    "axes[0][2].matshow(X[2].reshape(8, 8))\n",
    "axes[0][3].matshow(X[3].reshape(8, 8))\n",
    "axes[0][4].matshow(X[4].reshape(8, 8))\n",
    "axes[1][0].matshow(X[5].reshape(8, 8))\n",
    "axes[1][1].matshow(X[6].reshape(8, 8))\n",
    "axes[1][2].matshow(X[7].reshape(8, 8))\n",
    "axes[1][3].matshow(X[8].reshape(8, 8))\n",
    "axes[1][4].matshow(X[9].reshape(8, 8))"
   ]
  },
  {
   "cell_type": "code",
   "execution_count": 5,
   "metadata": {},
   "outputs": [
    {
     "name": "stdout",
     "output_type": "stream",
     "text": [
      "(1797,)\n"
     ]
    },
    {
     "data": {
      "text/plain": [
       "array([0, 1, 2, ..., 8, 9, 8])"
      ]
     },
     "execution_count": 5,
     "metadata": {},
     "output_type": "execute_result"
    }
   ],
   "source": [
    "y = digits[\"target\"]\n",
    "\n",
    "print(y.shape)\n",
    "y"
   ]
  },
  {
   "cell_type": "markdown",
   "metadata": {},
   "source": [
    "## Preprocessing"
   ]
  },
  {
   "cell_type": "code",
   "execution_count": 6,
   "metadata": {},
   "outputs": [
    {
     "data": {
      "text/plain": [
       "(8.995463126623417e-17, -4.8841645798553142, 11.115835420144686)"
      ]
     },
     "execution_count": 6,
     "metadata": {},
     "output_type": "execute_result"
    }
   ],
   "source": [
    "X_mean = X.mean()\n",
    "\n",
    "X = X - X_mean\n",
    "\n",
    "X.mean(), X.min(), X.max()"
   ]
  },
  {
   "cell_type": "code",
   "execution_count": 7,
   "metadata": {},
   "outputs": [
    {
     "name": "stderr",
     "output_type": "stream",
     "text": [
      "Using TensorFlow backend.\n",
      "/Users/shaynekang/anaconda3/lib/python3.6/importlib/_bootstrap.py:219: RuntimeWarning: compiletime version 3.5 of module 'tensorflow.python.framework.fast_tensor_util' does not match runtime version 3.6\n",
      "  return f(*args, **kwds)\n"
     ]
    },
    {
     "name": "stdout",
     "output_type": "stream",
     "text": [
      "(1797,) (1797, 10)\n"
     ]
    }
   ],
   "source": [
    "from keras.utils import to_categorical\n",
    "\n",
    "y_hot = to_categorical(y)\n",
    "\n",
    "print(y.shape, y_hot.shape)"
   ]
  },
  {
   "cell_type": "markdown",
   "metadata": {},
   "source": [
    "## Define Activation"
   ]
  },
  {
   "cell_type": "markdown",
   "metadata": {},
   "source": [
    "### Sigmoid"
   ]
  },
  {
   "cell_type": "code",
   "execution_count": 8,
   "metadata": {},
   "outputs": [
    {
     "data": {
      "text/plain": [
       "[<matplotlib.lines.Line2D at 0x1a21572908>]"
      ]
     },
     "execution_count": 8,
     "metadata": {},
     "output_type": "execute_result"
    },
    {
     "data": {
      "image/png": "[encoded data removed]",
      "text/plain": [
       "<matplotlib.figure.Figure at 0x1a2153c4a8>"
      ]
     },
     "metadata": {},
     "output_type": "display_data"
    }
   ],
   "source": [
    "def sigmoid(n):\n",
    "    return 1 / (1 + np.exp(-n))\n",
    "\n",
    "xx = np.linspace(start=-9, stop=+9)\n",
    "yy = sigmoid(xx)\n",
    "\n",
    "plt.plot(xx, yy)"
   ]
  },
  {
   "cell_type": "code",
   "execution_count": 9,
   "metadata": {},
   "outputs": [
    {
     "data": {
      "text/plain": [
       "[<matplotlib.lines.Line2D at 0x1a21641208>]"
      ]
     },
     "execution_count": 9,
     "metadata": {},
     "output_type": "execute_result"
    },
    {
     "data": {
      "image/png": "[encoded data removed]",
      "text/plain": [
       "<matplotlib.figure.Figure at 0x1a21544da0>"
      ]
     },
     "metadata": {},
     "output_type": "display_data"
    }
   ],
   "source": [
    "def sigmoid_derivative(n):\n",
    "    return sigmoid(n) * (1 - sigmoid(n))\n",
    "\n",
    "xx = np.linspace(start=-9, stop=+9)\n",
    "yy = sigmoid_derivative(xx)\n",
    "\n",
    "plt.plot(xx, yy)"
   ]
  },
  {
   "cell_type": "markdown",
   "metadata": {},
   "source": [
    "## Build a Model"
   ]
  },
  {
   "cell_type": "code",
   "execution_count": 10,
   "metadata": {
    "collapsed": true
   },
   "outputs": [],
   "source": [
    "from time import time\n",
    "\n",
    "def train(X, y, num_epoch, learning_rate, update_method):\n",
    "    errors = []\n",
    "\n",
    "    start = time()\n",
    "\n",
    "    w1 = np.random.uniform(low=-np.sqrt(6 / (64+100)),\n",
    "                           high=+np.sqrt(6 / (64+100)),\n",
    "                           size=(64, 100))\n",
    "\n",
    "    w2 = np.random.uniform(low=-np.sqrt(6 / (100+10)),\n",
    "                           high=+np.sqrt(6 / (100+10)),\n",
    "                           size=(100, 10))\n",
    "\n",
    "    for epoch in range(num_epoch):\n",
    "        # Forward Propagation\n",
    "        z1 = X.dot(w1)\n",
    "        a1 = sigmoid(z1)\n",
    "        z2 = a1.dot(w2)\n",
    "        a2 = sigmoid(z2)\n",
    "\n",
    "        y_predict = np.argmax(a2, axis=1)\n",
    "        error = (y_predict != y).mean()\n",
    "\n",
    "        if epoch % (num_epoch // 10) == 0:\n",
    "            print(\"{0:3} error = {1:.5f}\".format(epoch, error))\n",
    "\n",
    "        errors.append({\n",
    "            'epoch': epoch,\n",
    "            'elapsed': time() - start,\n",
    "            'error': error,\n",
    "        })\n",
    "\n",
    "        # Backpropagation\n",
    "        d2 = (a2 - y_hot)\n",
    "        d1 = d2.dot(w2.T) * sigmoid_derivative(z1)\n",
    "\n",
    "        # Weight gradients\n",
    "        dw2 = a1.T.dot(d2)\n",
    "        dw1 = X.T.dot(d1)\n",
    "\n",
    "        w1, w2 = update_method(epoch, learning_rate, w1, w2, dw1, dw2)\n",
    "\n",
    "    print(\"----\" * 10)\n",
    "    print(\"{0:3} error = {1:.5f}\".format(epoch, error))\n",
    "    \n",
    "    errors = pd.DataFrame(errors)\n",
    "    errors = errors[[\"epoch\", \"elapsed\", \"error\"]]\n",
    "\n",
    "    return errors"
   ]
  },
  {
   "cell_type": "markdown",
   "metadata": {
    "collapsed": true
   },
   "source": [
    "### Stochastic Gradient Descent"
   ]
  },
  {
   "cell_type": "code",
   "execution_count": 11,
   "metadata": {},
   "outputs": [
    {
     "name": "stdout",
     "output_type": "stream",
     "text": [
      "  0 error = 0.93100\n",
      " 10 error = 0.17251\n",
      " 20 error = 0.09961\n",
      " 30 error = 0.07290\n",
      " 40 error = 0.05787\n",
      " 50 error = 0.04786\n",
      " 60 error = 0.03951\n",
      " 70 error = 0.03506\n",
      " 80 error = 0.03283\n",
      " 90 error = 0.03172\n",
      "----------------------------------------\n",
      " 99 error = 0.02894\n"
     ]
    },
    {
     "data": {
      "text/html": [
       "<div>\n",
       "<style>\n",
       "    .dataframe thead tr:only-child th {\n",
       "        text-align: right;\n",
       "    }\n",
       "\n",
       "    .dataframe thead th {\n",
       "        text-align: left;\n",
       "    }\n",
       "\n",
       "    .dataframe tbody tr th {\n",
       "        vertical-align: top;\n",
       "    }\n",
       "</style>\n",
       "<table border=\"1\" class=\"dataframe\">\n",
       "  <thead>\n",
       "    <tr style=\"text-align: right;\">\n",
       "      <th></th>\n",
       "      <th>epoch</th>\n",
       "      <th>elapsed</th>\n",
       "      <th>error</th>\n",
       "    </tr>\n",
       "  </thead>\n",
       "  <tbody>\n",
       "    <tr>\n",
       "      <th>0</th>\n",
       "      <td>0</td>\n",
       "      <td>0.012154</td>\n",
       "      <td>0.930996</td>\n",
       "    </tr>\n",
       "    <tr>\n",
       "      <th>1</th>\n",
       "      <td>1</td>\n",
       "      <td>0.035699</td>\n",
       "      <td>0.882582</td>\n",
       "    </tr>\n",
       "    <tr>\n",
       "      <th>2</th>\n",
       "      <td>2</td>\n",
       "      <td>0.055513</td>\n",
       "      <td>0.763495</td>\n",
       "    </tr>\n",
       "    <tr>\n",
       "      <th>3</th>\n",
       "      <td>3</td>\n",
       "      <td>0.071872</td>\n",
       "      <td>0.633278</td>\n",
       "    </tr>\n",
       "    <tr>\n",
       "      <th>4</th>\n",
       "      <td>4</td>\n",
       "      <td>0.088861</td>\n",
       "      <td>0.490818</td>\n",
       "    </tr>\n",
       "    <tr>\n",
       "      <th>5</th>\n",
       "      <td>5</td>\n",
       "      <td>0.103035</td>\n",
       "      <td>0.374513</td>\n",
       "    </tr>\n",
       "    <tr>\n",
       "      <th>6</th>\n",
       "      <td>6</td>\n",
       "      <td>0.121025</td>\n",
       "      <td>0.308848</td>\n",
       "    </tr>\n",
       "    <tr>\n",
       "      <th>7</th>\n",
       "      <td>7</td>\n",
       "      <td>0.137180</td>\n",
       "      <td>0.259878</td>\n",
       "    </tr>\n",
       "    <tr>\n",
       "      <th>8</th>\n",
       "      <td>8</td>\n",
       "      <td>0.153908</td>\n",
       "      <td>0.214246</td>\n",
       "    </tr>\n",
       "    <tr>\n",
       "      <th>9</th>\n",
       "      <td>9</td>\n",
       "      <td>0.172161</td>\n",
       "      <td>0.192543</td>\n",
       "    </tr>\n",
       "  </tbody>\n",
       "</table>\n",
       "</div>"
      ],
      "text/plain": [
       "   epoch   elapsed     error\n",
       "0      0  0.012154  0.930996\n",
       "1      1  0.035699  0.882582\n",
       "2      2  0.055513  0.763495\n",
       "3      3  0.071872  0.633278\n",
       "4      4  0.088861  0.490818\n",
       "5      5  0.103035  0.374513\n",
       "6      6  0.121025  0.308848\n",
       "7      7  0.137180  0.259878\n",
       "8      8  0.153908  0.214246\n",
       "9      9  0.172161  0.192543"
      ]
     },
     "execution_count": 11,
     "metadata": {},
     "output_type": "execute_result"
    }
   ],
   "source": [
    "def update_sgd(epoch, learning_rate, w1, w2, dw1, dw2):\n",
    "    w2 = w2 - learning_rate * dw2\n",
    "    w1 = w1 - learning_rate * dw1\n",
    "    \n",
    "    return w1, w2\n",
    "\n",
    "num_epoch = 100\n",
    "learning_rate = 0.0001\n",
    "\n",
    "errors_sgd = train(X, y, num_epoch, learning_rate, update_method=update_sgd)\n",
    "\n",
    "errors_sgd.head(10)"
   ]
  },
  {
   "cell_type": "code",
   "execution_count": 12,
   "metadata": {},
   "outputs": [
    {
     "data": {
      "text/plain": [
       "<matplotlib.legend.Legend at 0x1a216684e0>"
      ]
     },
     "execution_count": 12,
     "metadata": {},
     "output_type": "execute_result"
    },
    {
     "data": {
      "image/png": "[encoded data removed]",
      "text/plain": [
       "<matplotlib.figure.Figure at 0x1a21668278>"
      ]
     },
     "metadata": {},
     "output_type": "display_data"
    }
   ],
   "source": [
    "plt.plot(errors_sgd['elapsed'],\n",
    "         errors_sgd['error'],\n",
    "         label=\"SGD\")\n",
    "\n",
    "plt.legend()"
   ]
  },
  {
   "cell_type": "markdown",
   "metadata": {},
   "source": [
    "### Momentum"
   ]
  },
  {
   "cell_type": "code",
   "execution_count": 13,
   "metadata": {},
   "outputs": [
    {
     "name": "stdout",
     "output_type": "stream",
     "text": [
      "  0 error = 0.91263\n",
      " 10 error = 0.29716\n",
      " 20 error = 0.09516\n",
      " 30 error = 0.05175\n",
      " 40 error = 0.02782\n",
      " 50 error = 0.02115\n",
      " 60 error = 0.01336\n",
      " 70 error = 0.01002\n",
      " 80 error = 0.00835\n",
      " 90 error = 0.00779\n",
      "----------------------------------------\n",
      " 99 error = 0.00723\n"
     ]
    },
    {
     "data": {
      "text/html": [
       "<div>\n",
       "<style>\n",
       "    .dataframe thead tr:only-child th {\n",
       "        text-align: right;\n",
       "    }\n",
       "\n",
       "    .dataframe thead th {\n",
       "        text-align: left;\n",
       "    }\n",
       "\n",
       "    .dataframe tbody tr th {\n",
       "        vertical-align: top;\n",
       "    }\n",
       "</style>\n",
       "<table border=\"1\" class=\"dataframe\">\n",
       "  <thead>\n",
       "    <tr style=\"text-align: right;\">\n",
       "      <th></th>\n",
       "      <th>epoch</th>\n",
       "      <th>elapsed</th>\n",
       "      <th>error</th>\n",
       "    </tr>\n",
       "  </thead>\n",
       "  <tbody>\n",
       "    <tr>\n",
       "      <th>0</th>\n",
       "      <td>0</td>\n",
       "      <td>0.006728</td>\n",
       "      <td>0.912632</td>\n",
       "    </tr>\n",
       "    <tr>\n",
       "      <th>1</th>\n",
       "      <td>1</td>\n",
       "      <td>0.020245</td>\n",
       "      <td>0.892042</td>\n",
       "    </tr>\n",
       "    <tr>\n",
       "      <th>2</th>\n",
       "      <td>2</td>\n",
       "      <td>0.032068</td>\n",
       "      <td>0.878687</td>\n",
       "    </tr>\n",
       "    <tr>\n",
       "      <th>3</th>\n",
       "      <td>3</td>\n",
       "      <td>0.044173</td>\n",
       "      <td>0.813578</td>\n",
       "    </tr>\n",
       "    <tr>\n",
       "      <th>4</th>\n",
       "      <td>4</td>\n",
       "      <td>0.056669</td>\n",
       "      <td>0.760156</td>\n",
       "    </tr>\n",
       "    <tr>\n",
       "      <th>5</th>\n",
       "      <td>5</td>\n",
       "      <td>0.068350</td>\n",
       "      <td>0.671119</td>\n",
       "    </tr>\n",
       "    <tr>\n",
       "      <th>6</th>\n",
       "      <td>6</td>\n",
       "      <td>0.082734</td>\n",
       "      <td>0.591541</td>\n",
       "    </tr>\n",
       "    <tr>\n",
       "      <th>7</th>\n",
       "      <td>7</td>\n",
       "      <td>0.096931</td>\n",
       "      <td>0.459655</td>\n",
       "    </tr>\n",
       "    <tr>\n",
       "      <th>8</th>\n",
       "      <td>8</td>\n",
       "      <td>0.114192</td>\n",
       "      <td>0.355036</td>\n",
       "    </tr>\n",
       "    <tr>\n",
       "      <th>9</th>\n",
       "      <td>9</td>\n",
       "      <td>0.128628</td>\n",
       "      <td>0.283806</td>\n",
       "    </tr>\n",
       "  </tbody>\n",
       "</table>\n",
       "</div>"
      ],
      "text/plain": [
       "   epoch   elapsed     error\n",
       "0      0  0.006728  0.912632\n",
       "1      1  0.020245  0.892042\n",
       "2      2  0.032068  0.878687\n",
       "3      3  0.044173  0.813578\n",
       "4      4  0.056669  0.760156\n",
       "5      5  0.068350  0.671119\n",
       "6      6  0.082734  0.591541\n",
       "7      7  0.096931  0.459655\n",
       "8      8  0.114192  0.355036\n",
       "9      9  0.128628  0.283806"
      ]
     },
     "execution_count": 13,
     "metadata": {},
     "output_type": "execute_result"
    }
   ],
   "source": [
    "mu = 0.9\n",
    "\n",
    "cache_dw1, cache_dw2 = 0, 0\n",
    "\n",
    "def update_momentum(epoch, learning_rate, w1, w2, dw1, dw2):\n",
    "    global cache_dw1, cache_dw2\n",
    "\n",
    "    cache_dw2 = mu * cache_dw2 - learning_rate * dw2\n",
    "    w2 = w2 + cache_dw2\n",
    "\n",
    "    cache_dw1 = mu * cache_dw1 - learning_rate * dw1\n",
    "    w1 = w1 + cache_dw1\n",
    "    \n",
    "    return w1, w2\n",
    "\n",
    "num_epoch = 100\n",
    "learning_rate = 0.0001\n",
    "\n",
    "errors_momentum = train(X, y, num_epoch, learning_rate, update_method=update_momentum)\n",
    "errors_momentum.head(10)"
   ]
  },
  {
   "cell_type": "code",
   "execution_count": 14,
   "metadata": {},
   "outputs": [
    {
     "data": {
      "text/plain": [
       "<matplotlib.legend.Legend at 0x1a22d22160>"
      ]
     },
     "execution_count": 14,
     "metadata": {},
     "output_type": "execute_result"
    },
    {
     "data": {
      "image/png": "[encoded data removed]",
      "text/plain": [
       "<matplotlib.figure.Figure at 0x1a215a7048>"
      ]
     },
     "metadata": {},
     "output_type": "display_data"
    }
   ],
   "source": [
    "plt.plot(errors_sgd['elapsed'],\n",
    "         errors_sgd['error'],\n",
    "         label=\"SGD\")\n",
    "\n",
    "plt.plot(errors_momentum['elapsed'],\n",
    "         errors_momentum['error'],\n",
    "         label=\"momentum\")\n",
    "\n",
    "plt.legend()"
   ]
  },
  {
   "cell_type": "markdown",
   "metadata": {},
   "source": [
    "### Nesterov Momentum"
   ]
  },
  {
   "cell_type": "code",
   "execution_count": 15,
   "metadata": {},
   "outputs": [
    {
     "name": "stdout",
     "output_type": "stream",
     "text": [
      "  0 error = 0.93489\n",
      " 10 error = 0.10963\n",
      " 20 error = 0.04396\n",
      " 30 error = 0.02337\n",
      " 40 error = 0.01391\n",
      " 50 error = 0.00890\n",
      " 60 error = 0.00723\n",
      " 70 error = 0.00501\n",
      " 80 error = 0.00501\n",
      " 90 error = 0.00501\n",
      "----------------------------------------\n",
      " 99 error = 0.00390\n"
     ]
    },
    {
     "data": {
      "text/html": [
       "<div>\n",
       "<style>\n",
       "    .dataframe thead tr:only-child th {\n",
       "        text-align: right;\n",
       "    }\n",
       "\n",
       "    .dataframe thead th {\n",
       "        text-align: left;\n",
       "    }\n",
       "\n",
       "    .dataframe tbody tr th {\n",
       "        vertical-align: top;\n",
       "    }\n",
       "</style>\n",
       "<table border=\"1\" class=\"dataframe\">\n",
       "  <thead>\n",
       "    <tr style=\"text-align: right;\">\n",
       "      <th></th>\n",
       "      <th>epoch</th>\n",
       "      <th>elapsed</th>\n",
       "      <th>error</th>\n",
       "    </tr>\n",
       "  </thead>\n",
       "  <tbody>\n",
       "    <tr>\n",
       "      <th>0</th>\n",
       "      <td>0</td>\n",
       "      <td>0.005905</td>\n",
       "      <td>0.934891</td>\n",
       "    </tr>\n",
       "    <tr>\n",
       "      <th>1</th>\n",
       "      <td>1</td>\n",
       "      <td>0.027357</td>\n",
       "      <td>0.805231</td>\n",
       "    </tr>\n",
       "    <tr>\n",
       "      <th>2</th>\n",
       "      <td>2</td>\n",
       "      <td>0.039572</td>\n",
       "      <td>0.738453</td>\n",
       "    </tr>\n",
       "    <tr>\n",
       "      <th>3</th>\n",
       "      <td>3</td>\n",
       "      <td>0.051968</td>\n",
       "      <td>0.707290</td>\n",
       "    </tr>\n",
       "    <tr>\n",
       "      <th>4</th>\n",
       "      <td>4</td>\n",
       "      <td>0.063571</td>\n",
       "      <td>0.625487</td>\n",
       "    </tr>\n",
       "    <tr>\n",
       "      <th>5</th>\n",
       "      <td>5</td>\n",
       "      <td>0.076013</td>\n",
       "      <td>0.351141</td>\n",
       "    </tr>\n",
       "    <tr>\n",
       "      <th>6</th>\n",
       "      <td>6</td>\n",
       "      <td>0.088301</td>\n",
       "      <td>0.297718</td>\n",
       "    </tr>\n",
       "    <tr>\n",
       "      <th>7</th>\n",
       "      <td>7</td>\n",
       "      <td>0.100065</td>\n",
       "      <td>0.183639</td>\n",
       "    </tr>\n",
       "    <tr>\n",
       "      <th>8</th>\n",
       "      <td>8</td>\n",
       "      <td>0.111459</td>\n",
       "      <td>0.179744</td>\n",
       "    </tr>\n",
       "    <tr>\n",
       "      <th>9</th>\n",
       "      <td>9</td>\n",
       "      <td>0.124095</td>\n",
       "      <td>0.147468</td>\n",
       "    </tr>\n",
       "  </tbody>\n",
       "</table>\n",
       "</div>"
      ],
      "text/plain": [
       "   epoch   elapsed     error\n",
       "0      0  0.005905  0.934891\n",
       "1      1  0.027357  0.805231\n",
       "2      2  0.039572  0.738453\n",
       "3      3  0.051968  0.707290\n",
       "4      4  0.063571  0.625487\n",
       "5      5  0.076013  0.351141\n",
       "6      6  0.088301  0.297718\n",
       "7      7  0.100065  0.183639\n",
       "8      8  0.111459  0.179744\n",
       "9      9  0.124095  0.147468"
      ]
     },
     "execution_count": 15,
     "metadata": {},
     "output_type": "execute_result"
    }
   ],
   "source": [
    "mu = 0.9\n",
    "\n",
    "cache_dw1, cache_dw2 = 0, 0\n",
    "\n",
    "def update_nesterov(epoch, learning_rate, w1, w2, dw1, dw2):\n",
    "    global cache_dw1, cache_dw2\n",
    "\n",
    "    dw2_prev = cache_dw2\n",
    "    cache_dw2 = mu * cache_dw2 - learning_rate * dw2\n",
    "    w2 = w2 + (-mu * dw2_prev) + (1 + mu) * cache_dw2\n",
    "\n",
    "    dw1_prev = cache_dw1\n",
    "    cache_dw1 = mu * cache_dw1 - learning_rate * dw1\n",
    "    w1 = w1 + (-mu * dw1_prev) + (1 + mu) * cache_dw1\n",
    "\n",
    "    return w1, w2\n",
    "\n",
    "num_epoch = 100\n",
    "learning_rate = 0.0001\n",
    "\n",
    "errors_nesterov = train(X, y, num_epoch, learning_rate, update_method=update_nesterov)\n",
    "errors_nesterov.head(10)"
   ]
  },
  {
   "cell_type": "code",
   "execution_count": 16,
   "metadata": {},
   "outputs": [
    {
     "data": {
      "text/plain": [
       "<matplotlib.legend.Legend at 0x1a22df0940>"
      ]
     },
     "execution_count": 16,
     "metadata": {},
     "output_type": "execute_result"
    },
    {
     "data": {
      "image/png": "[encoded data removed]",
      "text/plain": [
       "<matplotlib.figure.Figure at 0x1a22c65668>"
      ]
     },
     "metadata": {},
     "output_type": "display_data"
    }
   ],
   "source": [
    "%matplotlib inline\n",
    "import matplotlib.pyplot as plt\n",
    "\n",
    "errors_sgd = pd.DataFrame(errors_sgd)\n",
    "errors_momentum = pd.DataFrame(errors_momentum)\n",
    "errors_nesterov = pd.DataFrame(errors_nesterov)\n",
    "\n",
    "plt.plot(errors_sgd['elapsed'],\n",
    "         errors_sgd['error'],\n",
    "         label=\"SGD\")\n",
    "\n",
    "plt.plot(errors_momentum['elapsed'],\n",
    "         errors_momentum['error'],\n",
    "         label=\"momentum\")\n",
    "\n",
    "plt.plot(errors_nesterov['elapsed'],\n",
    "         errors_nesterov['error'],\n",
    "         label=\"nesterov momentum\")\n",
    "\n",
    "plt.legend()"
   ]
  },
  {
   "cell_type": "markdown",
   "metadata": {
    "collapsed": true
   },
   "source": [
    "### AdaGrad"
   ]
  },
  {
   "cell_type": "code",
   "execution_count": 17,
   "metadata": {},
   "outputs": [
    {
     "name": "stdout",
     "output_type": "stream",
     "text": [
      "  0 error = 0.91375\n",
      " 10 error = 0.17084\n",
      " 20 error = 0.10184\n",
      " 30 error = 0.07902\n",
      " 40 error = 0.06733\n",
      " 50 error = 0.05676\n",
      " 60 error = 0.05120\n",
      " 70 error = 0.04341\n",
      " 80 error = 0.03840\n",
      " 90 error = 0.03673\n",
      "----------------------------------------\n",
      " 99 error = 0.03506\n"
     ]
    },
    {
     "data": {
      "text/html": [
       "<div>\n",
       "<style>\n",
       "    .dataframe thead tr:only-child th {\n",
       "        text-align: right;\n",
       "    }\n",
       "\n",
       "    .dataframe thead th {\n",
       "        text-align: left;\n",
       "    }\n",
       "\n",
       "    .dataframe tbody tr th {\n",
       "        vertical-align: top;\n",
       "    }\n",
       "</style>\n",
       "<table border=\"1\" class=\"dataframe\">\n",
       "  <thead>\n",
       "    <tr style=\"text-align: right;\">\n",
       "      <th></th>\n",
       "      <th>epoch</th>\n",
       "      <th>elapsed</th>\n",
       "      <th>error</th>\n",
       "    </tr>\n",
       "  </thead>\n",
       "  <tbody>\n",
       "    <tr>\n",
       "      <th>0</th>\n",
       "      <td>0</td>\n",
       "      <td>0.007458</td>\n",
       "      <td>0.913745</td>\n",
       "    </tr>\n",
       "    <tr>\n",
       "      <th>1</th>\n",
       "      <td>1</td>\n",
       "      <td>0.031228</td>\n",
       "      <td>0.874235</td>\n",
       "    </tr>\n",
       "    <tr>\n",
       "      <th>2</th>\n",
       "      <td>2</td>\n",
       "      <td>0.043316</td>\n",
       "      <td>0.685587</td>\n",
       "    </tr>\n",
       "    <tr>\n",
       "      <th>3</th>\n",
       "      <td>3</td>\n",
       "      <td>0.055876</td>\n",
       "      <td>0.510295</td>\n",
       "    </tr>\n",
       "    <tr>\n",
       "      <th>4</th>\n",
       "      <td>4</td>\n",
       "      <td>0.073702</td>\n",
       "      <td>0.396216</td>\n",
       "    </tr>\n",
       "    <tr>\n",
       "      <th>5</th>\n",
       "      <td>5</td>\n",
       "      <td>0.092990</td>\n",
       "      <td>0.327212</td>\n",
       "    </tr>\n",
       "    <tr>\n",
       "      <th>6</th>\n",
       "      <td>6</td>\n",
       "      <td>0.107155</td>\n",
       "      <td>0.275459</td>\n",
       "    </tr>\n",
       "    <tr>\n",
       "      <th>7</th>\n",
       "      <td>7</td>\n",
       "      <td>0.124577</td>\n",
       "      <td>0.234836</td>\n",
       "    </tr>\n",
       "    <tr>\n",
       "      <th>8</th>\n",
       "      <td>8</td>\n",
       "      <td>0.137666</td>\n",
       "      <td>0.204786</td>\n",
       "    </tr>\n",
       "    <tr>\n",
       "      <th>9</th>\n",
       "      <td>9</td>\n",
       "      <td>0.149722</td>\n",
       "      <td>0.189761</td>\n",
       "    </tr>\n",
       "  </tbody>\n",
       "</table>\n",
       "</div>"
      ],
      "text/plain": [
       "   epoch   elapsed     error\n",
       "0      0  0.007458  0.913745\n",
       "1      1  0.031228  0.874235\n",
       "2      2  0.043316  0.685587\n",
       "3      3  0.055876  0.510295\n",
       "4      4  0.073702  0.396216\n",
       "5      5  0.092990  0.327212\n",
       "6      6  0.107155  0.275459\n",
       "7      7  0.124577  0.234836\n",
       "8      8  0.137666  0.204786\n",
       "9      9  0.149722  0.189761"
      ]
     },
     "execution_count": 17,
     "metadata": {},
     "output_type": "execute_result"
    }
   ],
   "source": [
    "eps = 0.0000001\n",
    "cache_dw1, cache_dw2 = 0, 0\n",
    "\n",
    "def update_adagrad(epoch, learning_rate, w1, w2, dw1, dw2):\n",
    "    global cache_dw1, cache_dw2\n",
    "\n",
    "    cache_dw2 = cache_dw2 + dw2 ** 2\n",
    "    w2 = w2 - learning_rate * dw2 / (np.sqrt(cache_dw2) + eps)\n",
    "\n",
    "    cache_dw1 = cache_dw1 + dw1 ** 2\n",
    "    w1 = w1 - learning_rate * dw1 / (np.sqrt(cache_dw1) + eps)\n",
    "\n",
    "    return w1, w2\n",
    "\n",
    "num_epoch = 100\n",
    "learning_rate = 0.01\n",
    "\n",
    "errors_adagrad = train(X, y, num_epoch, learning_rate, update_method=update_adagrad)\n",
    "errors_adagrad.head(10)"
   ]
  },
  {
   "cell_type": "code",
   "execution_count": 18,
   "metadata": {},
   "outputs": [
    {
     "data": {
      "text/plain": [
       "<matplotlib.legend.Legend at 0x1a22ec6a90>"
      ]
     },
     "execution_count": 18,
     "metadata": {},
     "output_type": "execute_result"
    },
    {
     "data": {
      "image/png": "[encoded data removed]",
      "text/plain": [
       "<matplotlib.figure.Figure at 0x1a22e28fd0>"
      ]
     },
     "metadata": {},
     "output_type": "display_data"
    }
   ],
   "source": [
    "# plt.plot(errors_sgd['elapsed'],\n",
    "#          errors_sgd['error'],\n",
    "#          label=\"SGD\")\n",
    "\n",
    "plt.plot(errors_momentum['elapsed'],\n",
    "         errors_momentum['error'],\n",
    "         label=\"momentum\")\n",
    "\n",
    "plt.plot(errors_nesterov['elapsed'],\n",
    "         errors_nesterov['error'],\n",
    "         label=\"nesterov momentum\")\n",
    "\n",
    "plt.plot(errors_adagrad['elapsed'],\n",
    "         errors_adagrad['error'],\n",
    "         label=\"adagrad\")\n",
    "\n",
    "plt.legend()"
   ]
  },
  {
   "cell_type": "markdown",
   "metadata": {},
   "source": [
    "### RMSProp"
   ]
  },
  {
   "cell_type": "code",
   "execution_count": 19,
   "metadata": {},
   "outputs": [
    {
     "name": "stdout",
     "output_type": "stream",
     "text": [
      "  0 error = 0.86923\n",
      " 10 error = 0.11853\n",
      " 20 error = 0.05064\n",
      " 30 error = 0.03339\n",
      " 40 error = 0.02838\n",
      " 50 error = 0.02170\n",
      " 60 error = 0.01725\n",
      " 70 error = 0.01503\n",
      " 80 error = 0.01224\n",
      " 90 error = 0.01224\n",
      "----------------------------------------\n",
      " 99 error = 0.01057\n"
     ]
    },
    {
     "data": {
      "text/html": [
       "<div>\n",
       "<style>\n",
       "    .dataframe thead tr:only-child th {\n",
       "        text-align: right;\n",
       "    }\n",
       "\n",
       "    .dataframe thead th {\n",
       "        text-align: left;\n",
       "    }\n",
       "\n",
       "    .dataframe tbody tr th {\n",
       "        vertical-align: top;\n",
       "    }\n",
       "</style>\n",
       "<table border=\"1\" class=\"dataframe\">\n",
       "  <thead>\n",
       "    <tr style=\"text-align: right;\">\n",
       "      <th></th>\n",
       "      <th>epoch</th>\n",
       "      <th>elapsed</th>\n",
       "      <th>error</th>\n",
       "    </tr>\n",
       "  </thead>\n",
       "  <tbody>\n",
       "    <tr>\n",
       "      <th>0</th>\n",
       "      <td>0</td>\n",
       "      <td>0.011225</td>\n",
       "      <td>0.869226</td>\n",
       "    </tr>\n",
       "    <tr>\n",
       "      <th>1</th>\n",
       "      <td>1</td>\n",
       "      <td>0.033905</td>\n",
       "      <td>0.769616</td>\n",
       "    </tr>\n",
       "    <tr>\n",
       "      <th>2</th>\n",
       "      <td>2</td>\n",
       "      <td>0.047397</td>\n",
       "      <td>0.471341</td>\n",
       "    </tr>\n",
       "    <tr>\n",
       "      <th>3</th>\n",
       "      <td>3</td>\n",
       "      <td>0.060324</td>\n",
       "      <td>0.273790</td>\n",
       "    </tr>\n",
       "    <tr>\n",
       "      <th>4</th>\n",
       "      <td>4</td>\n",
       "      <td>0.073042</td>\n",
       "      <td>0.271564</td>\n",
       "    </tr>\n",
       "    <tr>\n",
       "      <th>5</th>\n",
       "      <td>5</td>\n",
       "      <td>0.085317</td>\n",
       "      <td>0.161380</td>\n",
       "    </tr>\n",
       "    <tr>\n",
       "      <th>6</th>\n",
       "      <td>6</td>\n",
       "      <td>0.097959</td>\n",
       "      <td>0.174736</td>\n",
       "    </tr>\n",
       "    <tr>\n",
       "      <th>7</th>\n",
       "      <td>7</td>\n",
       "      <td>0.110010</td>\n",
       "      <td>0.112410</td>\n",
       "    </tr>\n",
       "    <tr>\n",
       "      <th>8</th>\n",
       "      <td>8</td>\n",
       "      <td>0.122134</td>\n",
       "      <td>0.135225</td>\n",
       "    </tr>\n",
       "    <tr>\n",
       "      <th>9</th>\n",
       "      <td>9</td>\n",
       "      <td>0.136116</td>\n",
       "      <td>0.099610</td>\n",
       "    </tr>\n",
       "  </tbody>\n",
       "</table>\n",
       "</div>"
      ],
      "text/plain": [
       "   epoch   elapsed     error\n",
       "0      0  0.011225  0.869226\n",
       "1      1  0.033905  0.769616\n",
       "2      2  0.047397  0.471341\n",
       "3      3  0.060324  0.273790\n",
       "4      4  0.073042  0.271564\n",
       "5      5  0.085317  0.161380\n",
       "6      6  0.097959  0.174736\n",
       "7      7  0.110010  0.112410\n",
       "8      8  0.122134  0.135225\n",
       "9      9  0.136116  0.099610"
      ]
     },
     "execution_count": 19,
     "metadata": {},
     "output_type": "execute_result"
    }
   ],
   "source": [
    "eps = 0.0000001\n",
    "decay = 0.995\n",
    "learning_rate = 0.003\n",
    "\n",
    "cache_dw1, cache_dw2 = 0, 0\n",
    "\n",
    "\n",
    "def update_rmsprop(epoch, learning_rate, w1, w2, dw1, dw2):\n",
    "    global cache_dw1, cache_dw2\n",
    "\n",
    "    cache_dw2 = decay * cache_dw2 + (1 - decay) * dw2 ** 2\n",
    "    w2 = w2 - learning_rate * dw2 / np.sqrt(cache_dw2 + eps)\n",
    "\n",
    "    cache_dw1 = decay * cache_dw1 + (1 - decay) * dw1 ** 2\n",
    "    w1 = w1 - learning_rate * dw1 / np.sqrt(cache_dw1 + eps)\n",
    "\n",
    "    return w1, w2\n",
    "\n",
    "num_epoch = 100\n",
    "learning_rate = 0.003\n",
    "\n",
    "errors_rmsprop = train(X, y, num_epoch, learning_rate, update_method=update_rmsprop)\n",
    "errors_rmsprop.head(10)"
   ]
  },
  {
   "cell_type": "code",
   "execution_count": 20,
   "metadata": {},
   "outputs": [
    {
     "data": {
      "text/plain": [
       "<matplotlib.legend.Legend at 0x1a22f9be10>"
      ]
     },
     "execution_count": 20,
     "metadata": {},
     "output_type": "execute_result"
    },
    {
     "data": {
      "image/png": "[encoded data removed]",
      "text/plain": [
       "<matplotlib.figure.Figure at 0x1a22e0a6d8>"
      ]
     },
     "metadata": {},
     "output_type": "display_data"
    }
   ],
   "source": [
    "# plt.plot(errors_sgd['elapsed'],\n",
    "#          errors_sgd['error'],\n",
    "#          label=\"SGD\")\n",
    "\n",
    "plt.plot(errors_momentum['elapsed'],\n",
    "         errors_momentum['error'],\n",
    "         label=\"momentum\")\n",
    "\n",
    "plt.plot(errors_nesterov['elapsed'],\n",
    "         errors_nesterov['error'],\n",
    "         label=\"nesterov momentum\")\n",
    "\n",
    "plt.plot(errors_adagrad['elapsed'],\n",
    "         errors_adagrad['error'],\n",
    "         label=\"adagrad\")\n",
    "\n",
    "plt.plot(errors_rmsprop['elapsed'],\n",
    "         errors_rmsprop['error'],\n",
    "         label=\"rmsprop\")\n",
    "\n",
    "plt.legend()"
   ]
  },
  {
   "cell_type": "markdown",
   "metadata": {},
   "source": [
    "### Adam"
   ]
  },
  {
   "cell_type": "code",
   "execution_count": 21,
   "metadata": {},
   "outputs": [
    {
     "name": "stdout",
     "output_type": "stream",
     "text": [
      "  0 error = 0.89371\n",
      " 10 error = 0.46021\n",
      " 20 error = 0.10351\n",
      " 30 error = 0.06956\n",
      " 40 error = 0.04619\n",
      " 50 error = 0.03283\n",
      " 60 error = 0.02504\n",
      " 70 error = 0.01669\n",
      " 80 error = 0.01224\n",
      " 90 error = 0.01057\n",
      "----------------------------------------\n",
      " 99 error = 0.00946\n"
     ]
    },
    {
     "data": {
      "text/html": [
       "<div>\n",
       "<style>\n",
       "    .dataframe thead tr:only-child th {\n",
       "        text-align: right;\n",
       "    }\n",
       "\n",
       "    .dataframe thead th {\n",
       "        text-align: left;\n",
       "    }\n",
       "\n",
       "    .dataframe tbody tr th {\n",
       "        vertical-align: top;\n",
       "    }\n",
       "</style>\n",
       "<table border=\"1\" class=\"dataframe\">\n",
       "  <thead>\n",
       "    <tr style=\"text-align: right;\">\n",
       "      <th></th>\n",
       "      <th>epoch</th>\n",
       "      <th>elapsed</th>\n",
       "      <th>error</th>\n",
       "    </tr>\n",
       "  </thead>\n",
       "  <tbody>\n",
       "    <tr>\n",
       "      <th>0</th>\n",
       "      <td>0</td>\n",
       "      <td>0.012835</td>\n",
       "      <td>0.893712</td>\n",
       "    </tr>\n",
       "    <tr>\n",
       "      <th>1</th>\n",
       "      <td>1</td>\n",
       "      <td>0.038638</td>\n",
       "      <td>0.832499</td>\n",
       "    </tr>\n",
       "    <tr>\n",
       "      <th>2</th>\n",
       "      <td>2</td>\n",
       "      <td>0.056870</td>\n",
       "      <td>0.721758</td>\n",
       "    </tr>\n",
       "    <tr>\n",
       "      <th>3</th>\n",
       "      <td>3</td>\n",
       "      <td>0.079905</td>\n",
       "      <td>0.569282</td>\n",
       "    </tr>\n",
       "    <tr>\n",
       "      <th>4</th>\n",
       "      <td>4</td>\n",
       "      <td>0.101571</td>\n",
       "      <td>0.419032</td>\n",
       "    </tr>\n",
       "    <tr>\n",
       "      <th>5</th>\n",
       "      <td>5</td>\n",
       "      <td>0.118086</td>\n",
       "      <td>0.407902</td>\n",
       "    </tr>\n",
       "    <tr>\n",
       "      <th>6</th>\n",
       "      <td>6</td>\n",
       "      <td>0.141491</td>\n",
       "      <td>0.470228</td>\n",
       "    </tr>\n",
       "    <tr>\n",
       "      <th>7</th>\n",
       "      <td>7</td>\n",
       "      <td>0.160347</td>\n",
       "      <td>0.512521</td>\n",
       "    </tr>\n",
       "    <tr>\n",
       "      <th>8</th>\n",
       "      <td>8</td>\n",
       "      <td>0.180311</td>\n",
       "      <td>0.534224</td>\n",
       "    </tr>\n",
       "    <tr>\n",
       "      <th>9</th>\n",
       "      <td>9</td>\n",
       "      <td>0.201108</td>\n",
       "      <td>0.512521</td>\n",
       "    </tr>\n",
       "  </tbody>\n",
       "</table>\n",
       "</div>"
      ],
      "text/plain": [
       "   epoch   elapsed     error\n",
       "0      0  0.012835  0.893712\n",
       "1      1  0.038638  0.832499\n",
       "2      2  0.056870  0.721758\n",
       "3      3  0.079905  0.569282\n",
       "4      4  0.101571  0.419032\n",
       "5      5  0.118086  0.407902\n",
       "6      6  0.141491  0.470228\n",
       "7      7  0.160347  0.512521\n",
       "8      8  0.180311  0.534224\n",
       "9      9  0.201108  0.512521"
      ]
     },
     "execution_count": 21,
     "metadata": {},
     "output_type": "execute_result"
    }
   ],
   "source": [
    "beta1 = 0.9\n",
    "beta2 = 0.99\n",
    "eps = 0.0000001\n",
    "\n",
    "dw1m, dw2m = 0, 0\n",
    "dw1v, dw2v = 0, 0\n",
    "\n",
    "def update_adam(epoch, learning_rate, w1, w2, dw1, dw2):\n",
    "    global dw1m, dw2m\n",
    "    global dw1v, dw2v\n",
    "    \n",
    "    dw2m = beta1 * dw2m + (1 - beta1) * dw2\n",
    "    dw2v = beta2 * dw2v + (1 - beta2) * (dw2 ** 2)\n",
    "    dw2mb = dw2m / (1 - beta1 ** (1 + epoch))\n",
    "    dw2vb = dw2v / (1 - beta2 ** (1 + epoch))\n",
    "\n",
    "    w2 = w2 - learning_rate * dw2mb / np.sqrt(dw2vb + eps)\n",
    "\n",
    "    dw1m = beta1 * dw1m + (1 - beta1) * dw1\n",
    "    dw1v = beta2 * dw1v + (1 - beta2) * (dw1 ** 2)\n",
    "    dw1mb = dw1m / (1 - beta1 ** (1 + epoch))\n",
    "    dw1vb = dw1v / (1 - beta2 ** (1 + epoch))\n",
    "\n",
    "    w1 = w1 - learning_rate * dw1mb / np.sqrt(dw1vb + eps)\n",
    "\n",
    "    return w1, w2\n",
    "\n",
    "num_epoch = 100\n",
    "learning_rate = 0.01\n",
    "\n",
    "errors_adam = train(X, y, num_epoch, learning_rate, update_method=update_adam)\n",
    "errors_adam.head(10)"
   ]
  },
  {
   "cell_type": "code",
   "execution_count": 22,
   "metadata": {},
   "outputs": [
    {
     "data": {
      "text/plain": [
       "<matplotlib.legend.Legend at 0x1a2307cbe0>"
      ]
     },
     "execution_count": 22,
     "metadata": {},
     "output_type": "execute_result"
    },
    {
     "data": {
      "image/png": "[encoded data removed]",
      "text/plain": [
       "<matplotlib.figure.Figure at 0x1a22effd30>"
      ]
     },
     "metadata": {},
     "output_type": "display_data"
    }
   ],
   "source": [
    "# plt.plot(errors_sgd['elapsed'],\n",
    "#          errors_sgd['error'],\n",
    "#          label=\"SGD\")\n",
    "\n",
    "plt.plot(errors_momentum['elapsed'],\n",
    "         errors_momentum['error'],\n",
    "         label=\"momentum\")\n",
    "\n",
    "plt.plot(errors_nesterov['elapsed'],\n",
    "         errors_nesterov['error'],\n",
    "         label=\"nesterov momentum\")\n",
    "\n",
    "plt.plot(errors_adagrad['elapsed'],\n",
    "         errors_adagrad['error'],\n",
    "         label=\"adagrad\")\n",
    "\n",
    "plt.plot(errors_rmsprop['elapsed'],\n",
    "         errors_rmsprop['error'],\n",
    "         label=\"rmsprop\")\n",
    "\n",
    "plt.plot(errors_adam['elapsed'],\n",
    "         errors_adam['error'],\n",
    "         label=\"adam\")\n",
    "\n",
    "plt.legend()"
   ]
  },
  {
   "cell_type": "code",
   "execution_count": null,
   "metadata": {
    "collapsed": true
   },
   "outputs": [],
   "source": []
  },
  {
   "cell_type": "code",
   "execution_count": null,
   "metadata": {
    "collapsed": true
   },
   "outputs": [],
   "source": []
  }
 ],
 "metadata": {
  "kernelspec": {
   "display_name": "Python 3",
   "language": "python",
   "name": "python3"
  },
  "language_info": {
   "codemirror_mode": {
    "name": "ipython",
    "version": 3
   },
   "file_extension": ".py",
   "mimetype": "text/x-python",
   "name": "python",
   "nbconvert_exporter": "python",
   "pygments_lexer": "ipython3",
   "version": "3.6.1"
  }
 },
 "nbformat": 4,
 "nbformat_minor": 2
}
